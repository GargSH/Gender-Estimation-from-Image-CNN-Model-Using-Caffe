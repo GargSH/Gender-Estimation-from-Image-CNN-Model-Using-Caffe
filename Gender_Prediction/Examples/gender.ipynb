
In [1]: import os
   ...: import numpy as np
   ...: %matplotlib
   ...: import matplotlib.pyplot as plt
   ...: 
   ...: #import caffe 
   ...: caffe_root = './caffe/' 
   ...: import sys
   ...: sys.path.insert(0, caffe_root + 'python')
   ...: import caffe

In [2]: mean_file ='./mean.binaryproto'
   ...: proto_data = open(mean_file, "rb").read()
   ...: #print(proto_data)
   ...: a = caffe.io.caffe_pb2.BlobProto.FromString(proto_data)
   ...: mean  = caffe.io.blobproto_to_array(a)[0]
  
In [3]: #Load gender pretrained model
   ...: gender_pretrained_model ='./gender_net.caffemodel'
   ...: gender_model_file='./gender_net_definitions/deploy.prototxt'
   ...: gender = caffe.Classifier(gender_model_file, gender_pretrained_model,
   ...:                        mean=mean,
   ...:                        channel_swap=(2,1,0),
   ...:                        raw_scale=255,
   ...:                        image_dims=(256, 256))
   
In [4]: #labels for gender prediction
   ...: gender_list=['Male','Female']

In [5]: #labels for gender prediction
   ...: gender_list=['Male','Female']

In [6]: #Testing (input from user)
   ...: test_image = './Example/12.jpg'
   ...: #Load image to caffe model
   ...: input_image = caffe.io.load_image(test_image)
   ...: plt.imshow(input_image)

In [7]: #make_prediction
   ...: prediction = gender.predict([input_image]) 
   ...: print ('predicted gender:', gender_list[prediction[0].argmax()])
